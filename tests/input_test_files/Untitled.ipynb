{
 "cells": [
  {
   "cell_type": "code",
   "execution_count": 4,
   "metadata": {},
   "outputs": [],
   "source": [
    "import glob\n",
    "import openmc\n",
    "import os"
   ]
  },
  {
   "cell_type": "code",
   "execution_count": 5,
   "metadata": {},
   "outputs": [],
   "source": [
    "class OpenMCEvaluation:\n",
    "    \"\"\"This class evaluates openmc output files.\n",
    "    - To add new openmc outputs, create a function called \"output_***\" and\n",
    "    input *** name as a str into the openmc_output list.\n",
    "    \"\"\"\n",
    "\n",
    "    def __init__(self):\n",
    "        self.pre_defined_outputs = [\"keff\"]\n",
    "\n",
    "    def evaluate_keff(self):\n",
    "        \"\"\"This function analyzes the openmc output file\"\"\"\n",
    "        for file in glob.glob(\"statepoint\"+\"*.h5\"):\n",
    "            h5file = file\n",
    "        sp = openmc.StatePoint(h5file)\n",
    "        keff = sp.k_combined.nominal_value\n",
    "        return keff\n"
   ]
  },
  {
   "cell_type": "code",
   "execution_count": 7,
   "metadata": {},
   "outputs": [],
   "source": [
    "oe = OpenMCEvaluation()\n",
    "k = oe.evaluate_keff()"
   ]
  },
  {
   "cell_type": "code",
   "execution_count": 8,
   "metadata": {},
   "outputs": [
    {
     "data": {
      "text/plain": [
       "1.6331797843041689"
      ]
     },
     "execution_count": 8,
     "metadata": {},
     "output_type": "execute_result"
    }
   ],
   "source": [
    "k"
   ]
  },
  {
   "cell_type": "code",
   "execution_count": null,
   "metadata": {},
   "outputs": [],
   "source": []
  }
 ],
 "metadata": {
  "kernelspec": {
   "display_name": "openmc-ker",
   "language": "python",
   "name": "openmc-ker"
  },
  "language_info": {
   "codemirror_mode": {
    "name": "ipython",
    "version": 3
   },
   "file_extension": ".py",
   "mimetype": "text/x-python",
   "name": "python",
   "nbconvert_exporter": "python",
   "pygments_lexer": "ipython3",
   "version": "3.8.6"
  }
 },
 "nbformat": 4,
 "nbformat_minor": 4
}
